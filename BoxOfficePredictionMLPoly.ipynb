{
 "cells": [
  {
   "cell_type": "code",
   "execution_count": 93,
   "metadata": {},
   "outputs": [],
   "source": [
    "import numpy as np\n",
    "import matplotlib.pyplot as plt\n",
    "from sklearn.linear_model import LinearRegression\n",
    "from sklearn.preprocessing import PolynomialFeatures\n",
    "from sklearn.model_selection import train_test_split\n",
    "from sklearn.metrics import mean_squared_error\n",
    "import pandas as pd\n",
    "import ast\n",
    "from utils import *"
   ]
  },
  {
   "cell_type": "code",
   "execution_count": 94,
   "metadata": {},
   "outputs": [],
   "source": [
    "BASE_ERROR = 0.8\n",
    "MAX_DEG=5\n",
    "drop_features=[\"is_Animation\",\"is_Foreign\",\"is_Music\",\"is_History\",\"is_War\",\"is_Mystery\"]"
   ]
  },
  {
   "cell_type": "code",
   "execution_count": 95,
   "metadata": {},
   "outputs": [],
   "source": [
    "def load_data():\n",
    "    movie_df = pd.read_csv(MOVIE_DATA)\n",
    "    movie_df = movie_df[movie_df.revenue >= 1000000]\n",
    "    movie_df[\"genres\"] = movie_df[\"genres\"].apply(ast.literal_eval)\n",
    "\n",
    "    all_genre_list = get_all_genres(movie_df)\n",
    "    for g in all_genre_list:\n",
    "        g_name = \"is_\" + g\n",
    "        movie_df[g_name] = movie_df[\"genres\"].apply(check_gtype, g=g)\n",
    "\n",
    "    #    movie_df.to_csv(TMP_DUMP)\n",
    "\n",
    "    XY_df = movie_df.filter(like=\"is_\")\n",
    "    for f in drop_features:\n",
    "        del XY_df[f]\n",
    "    #del XY_df[\"is_Western\"]\n",
    "    #del XY_df[\"is_Documentary\"]\n",
    "    #del XY_df[\"is_Music\"]\n",
    "    #del XY_df[\"is_War\"]\n",
    "    #del XY_df[\"is_History\"]\n",
    "    #del XY_df[\"is_Mystery\"]\n",
    "\n",
    "    XY_df[\"revenue\"] = movie_df[\"revenue\"] / 100000000\n",
    "    XY = XY_df.to_numpy()\n",
    "    Y = XY[:, -1]\n",
    "    X = np.delete(XY, -1, axis=1)\n",
    "    # XY_df.to_csv(TMP_DUMP)\n",
    "    X_train = X[1:]\n",
    "    Y_train = Y[1:]\n",
    "    return (X_train, Y_train)\n"
   ]
  },
  {
   "cell_type": "code",
   "execution_count": 96,
   "metadata": {},
   "outputs": [
    {
     "name": "stderr",
     "output_type": "stream",
     "text": [
      "C:\\Users\\Ananthi Balakrishnan\\AppData\\Local\\Temp\\ipykernel_15724\\290894372.py:23: SettingWithCopyWarning: \n",
      "A value is trying to be set on a copy of a slice from a DataFrame.\n",
      "Try using .loc[row_indexer,col_indexer] = value instead\n",
      "\n",
      "See the caveats in the documentation: https://pandas.pydata.org/pandas-docs/stable/user_guide/indexing.html#returning-a-view-versus-a-copy\n",
      "  XY_df[\"revenue\"] = movie_df[\"revenue\"] / 100000000\n"
     ]
    }
   ],
   "source": [
    "X_all_f, y = load_data()\n",
    "X_features = [\n",
    "    \"is_Action\",\n",
    "    \"is_Adventure\",\n",
    "    \"is_Fantasy\",\n",
    "    \"is_Science Fiction\",\n",
    "    \"is_Crime\",\n",
    "    \"is_Drama\",\n",
    "    \"is_Thriller\",\n",
    "    \"is_Animation\",\n",
    "    \"is_Family\",\n",
    "    \"is_Western\",\n",
    "    \"is_Comedy\",\n",
    "    \"is_Romance\",\n",
    "    \"is_Horror\",\n",
    "    \"is_Mystery\",\n",
    "    \"is_History\",\n",
    "    \"is_War\",\n",
    "    \"is_Music\",\n",
    "    \"is_Documentary\",\n",
    "    \"is_Foreign\",\n",
    "]\n",
    "X_features = [x for x in X_features if x not in drop_features]\n"
   ]
  },
  {
   "cell_type": "code",
   "execution_count": 97,
   "metadata": {},
   "outputs": [],
   "source": [
    "def split_data(X,y):\n",
    "    # Split Data\n",
    "    print(f\"Overall data set size: {X.shape}\")\n",
    "    X_train, X_, y_train, y_ = train_test_split(X, y, test_size=0.40, random_state=1)\n",
    "    X_test, X_cv, y_test, y_cv = train_test_split(X_, y_, test_size=0.20, random_state=1)\n",
    "    print(f\"Training data set size: {X_train.shape}\")\n",
    "    print(f\"Validation data set size: {X_cv.shape}\")\n",
    "    print(f\"Test data set size: {X_test.shape}\")\n",
    "    return X_train,X_cv,X_test, y_train,y_cv,y_test"
   ]
  },
  {
   "cell_type": "code",
   "execution_count": 98,
   "metadata": {},
   "outputs": [],
   "source": [
    "def train_linear_model (X_train,X_cv,X_test, y_train,y_cv,y_test):\n",
    "    # Initialize the class\n",
    "    linear_model = LinearRegression()\n",
    "    # Train the model\n",
    "    linear_model.fit(X_train, y_train)\n",
    "\n",
    "    # Feed the training set and get the predictions\n",
    "    yhat = linear_model.predict(X_train)\n",
    "    # Use scikit-learn's utility function and divide by 2\n",
    "    print(f\"training MSE : {mean_squared_error(y_train, yhat) / 2}\")\n",
    "\n",
    "    # Feed the validation set and get the predictions\n",
    "    yhat_cv = linear_model.predict(X_cv)\n",
    "    print(\n",
    "        f\"Validation MSE : {mean_squared_error(y_cv, yhat_cv) / 2}\"\n",
    "    )\n",
    "\n",
    "    # Feed the test set and get the predictions\n",
    "    yhat_test = linear_model.predict(X_test)\n",
    "    print(f\"Test MSE : {mean_squared_error(y_test, yhat_test) / 2}\")\n"
   ]
  },
  {
   "cell_type": "code",
   "execution_count": 99,
   "metadata": {},
   "outputs": [],
   "source": [
    "def find_best_poly_fit (X_train,X_cv,X_test, y_train,y_cv,y_test):# Find best polynomial\n",
    "    # Instantiate the class to make polynomial features\n",
    "    train_mses = []\n",
    "    cv_mses = []\n",
    "    degrees = range(1, MAX_DEG)\n",
    "    models = []\n",
    "    polys = []\n",
    "\n",
    "    for d in degrees:\n",
    "        print(f\"POLY DEGREE: {d}\")\n",
    "        poly = PolynomialFeatures(degree=d, include_bias=False)\n",
    "        # Compute the number of features and transform the training set\n",
    "        X_train_mapped = poly.fit_transform(X_train)\n",
    "        polys.append(poly)\n",
    "\n",
    "        model = LinearRegression()\n",
    "        model.fit(X_train_mapped, y_train)\n",
    "        models.append(model)\n",
    "        yhat = model.predict(X_train_mapped)\n",
    "        # Use scikit-learn's utility function and divide by 2\n",
    "        train_mse = mean_squared_error(y_train, yhat) / 2\n",
    "\n",
    "        print(f\"training MSE : {train_mse}\")\n",
    "        train_mses.append(train_mse)\n",
    "\n",
    "        # Feed the validation set and get the predictions\n",
    "        X_cv_mapped = poly.fit_transform(X_cv)\n",
    "        yhat_cv = model.predict(X_cv_mapped)\n",
    "\n",
    "        cv_mse = mean_squared_error(y_cv, yhat_cv) / 2\n",
    "        print(f\"Validation MSE : {cv_mse}\")\n",
    "        cv_mses.append(cv_mse)\n",
    "    plt.plot(degrees, train_mses, color=\"r\",marker=\"o\",label=\"training MSE\")\n",
    "    plt.plot(degrees, cv_mses, color=\"b\",marker=\"x\",label=\"CV MSE\")\n",
    "    plt.title(\"degree of polynomial vs. train and CV MSEs\")\n",
    "    plt.legend\n",
    "    plt.show()\n",
    "\n",
    "    degree = np.argmin(cv_mses) + 1\n",
    "    print(f\"Lowest CV MSE is found in the model with degree={degree}\")\n",
    "    X_test_mapped = polys[degree-1].fit_transform(X_test)\n",
    "    yhat_test = models[degree-1].predict(X_test_mapped)\n",
    "\n",
    "    test_mse = mean_squared_error(y_test, yhat_test) / 2\n",
    "    print(f\"Test MSE : {test_mse}\")\n",
    "    return cv_mses[degree-1]\n"
   ]
  },
  {
   "cell_type": "code",
   "execution_count": 100,
   "metadata": {},
   "outputs": [
    {
     "name": "stdout",
     "output_type": "stream",
     "text": [
      "Overall data set size: (3183, 12)\n",
      "Training data set size: (1909, 12)\n",
      "Validation data set size: (255, 12)\n",
      "Test data set size: (1019, 12)\n",
      "training MSE : 1.3772158533776935\n",
      "Validation MSE : 1.4614612135288647\n",
      "Test MSE : 1.2698877535911086\n",
      "POLY DEGREE: 1\n",
      "training MSE : 1.3772158533776935\n",
      "Validation MSE : 1.4614612135288647\n",
      "POLY DEGREE: 2\n",
      "training MSE : 1.261004057135019\n",
      "Validation MSE : 1.242806789320209\n",
      "POLY DEGREE: 3\n",
      "training MSE : 1.151382851504178\n",
      "Validation MSE : 1.4331474194091499e+21\n",
      "POLY DEGREE: 4\n",
      "training MSE : 1.2316496048247352\n",
      "Validation MSE : 6.221802669376913e+24\n"
     ]
    },
    {
     "data": {
      "image/png": "[encoded data removed]",
      "text/plain": [
       "<Figure size 640x480 with 1 Axes>"
      ]
     },
     "metadata": {},
     "output_type": "display_data"
    },
    {
     "name": "stdout",
     "output_type": "stream",
     "text": [
      "Lowest CV MSE is found in the model with degree=2\n",
      "Test MSE : 8.770052219860117e+19\n"
     ]
    },
    {
     "data": {
      "text/plain": [
       "np.float64(1.242806789320209)"
      ]
     },
     "execution_count": 100,
     "metadata": {},
     "output_type": "execute_result"
    }
   ],
   "source": [
    "#Experiment feature selection\n",
    "#num_features = len(X_features)\n",
    "#feat_min_mse=[]\n",
    "#for i in range(num_features-1):\n",
    "    # print (\"-\"*40)\n",
    "    # print (f\"Dropping feature {X_features[i]},{X_features[i+1]}\")\n",
    "    # print (\"-\"*40)\n",
    "    # X=np.delete(X_all_f,i,1)\n",
    "    # X=np.delete(X_all_f,i,1)\n",
    "\n",
    "X_train,X_cv,X_test, y_train,y_cv,y_test = split_data(X,y)\n",
    "train_linear_model(X_train,X_cv,X_test, y_train,y_cv,y_test)\n",
    "find_best_poly_fit(X_train,X_cv,X_test, y_train,y_cv,y_test)\n",
    "#feat_min_mse.append(min_cv_mse)\n",
    "#print(f\"Min cv mse while dropping feature {X_features[i]},{X_features[i+1]}: {min_cv_mse}\")\n"
   ]
  }
 ],
 "metadata": {
  "kernelspec": {
   "display_name": "env",
   "language": "python",
   "name": "python3"
  },
  "language_info": {
   "codemirror_mode": {
    "name": "ipython",
    "version": 3
   },
   "file_extension": ".py",
   "mimetype": "text/x-python",
   "name": "python",
   "nbconvert_exporter": "python",
   "pygments_lexer": "ipython3",
   "version": "3.12.6"
  }
 },
 "nbformat": 4,
 "nbformat_minor": 2
}
